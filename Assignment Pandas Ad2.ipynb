{
 "cells": [
  {
   "cell_type": "code",
   "execution_count": 3,
   "id": "940b44f2-3189-4ec5-83e8-e2666e5eecef",
   "metadata": {},
   "outputs": [],
   "source": [
    "import pandas as pd"
   ]
  },
  {
   "cell_type": "code",
   "execution_count": 2,
   "id": "a9b316e0-6661-4d07-a84d-861e1a4c5824",
   "metadata": {},
   "outputs": [],
   "source": [
    "course_name =['Data Science' ,'Machine Learning' ,'Big Data' ,'Data Engineer']"
   ]
  },
  {
   "cell_type": "code",
   "execution_count": 3,
   "id": "99458f34-0df6-4503-9fe9-982df0c860d5",
   "metadata": {},
   "outputs": [],
   "source": [
    "duration=[2,3,6,4]"
   ]
  },
  {
   "cell_type": "code",
   "execution_count": 11,
   "id": "2bfe7858-a71c-4b3f-9393-f7ee911bdeef",
   "metadata": {},
   "outputs": [],
   "source": [
    "df=pd.DataFrame(data={'course_name' :['Data Science' ,'Machine Learning' ,'Big Data' ,'Data Engineer'] , 'duration' : [2,3,6,4]})"
   ]
  },
  {
   "cell_type": "code",
   "execution_count": 12,
   "id": "eec8e02a-2bb5-4380-bd5b-9c07bad44415",
   "metadata": {},
   "outputs": [
    {
     "data": {
      "text/html": [
       "<div>\n",
       "<style scoped>\n",
       "    .dataframe tbody tr th:only-of-type {\n",
       "        vertical-align: middle;\n",
       "    }\n",
       "\n",
       "    .dataframe tbody tr th {\n",
       "        vertical-align: top;\n",
       "    }\n",
       "\n",
       "    .dataframe thead th {\n",
       "        text-align: right;\n",
       "    }\n",
       "</style>\n",
       "<table border=\"1\" class=\"dataframe\">\n",
       "  <thead>\n",
       "    <tr style=\"text-align: right;\">\n",
       "      <th></th>\n",
       "      <th>course_name</th>\n",
       "      <th>duration</th>\n",
       "    </tr>\n",
       "  </thead>\n",
       "  <tbody>\n",
       "    <tr>\n",
       "      <th>0</th>\n",
       "      <td>Data Science</td>\n",
       "      <td>2</td>\n",
       "    </tr>\n",
       "    <tr>\n",
       "      <th>1</th>\n",
       "      <td>Machine Learning</td>\n",
       "      <td>3</td>\n",
       "    </tr>\n",
       "    <tr>\n",
       "      <th>2</th>\n",
       "      <td>Big Data</td>\n",
       "      <td>6</td>\n",
       "    </tr>\n",
       "    <tr>\n",
       "      <th>3</th>\n",
       "      <td>Data Engineer</td>\n",
       "      <td>4</td>\n",
       "    </tr>\n",
       "  </tbody>\n",
       "</table>\n",
       "</div>"
      ],
      "text/plain": [
       "        course_name  duration\n",
       "0      Data Science         2\n",
       "1  Machine Learning         3\n",
       "2          Big Data         6\n",
       "3     Data Engineer         4"
      ]
     },
     "execution_count": 12,
     "metadata": {},
     "output_type": "execute_result"
    }
   ],
   "source": [
    "df\n",
    "#Q1-Print the data present in the second row of the df"
   ]
  },
  {
   "cell_type": "code",
   "execution_count": 13,
   "id": "01037a0e-6781-40fa-90cb-558baff34517",
   "metadata": {},
   "outputs": [],
   "source": [
    "#Q2.-DIff b/w the Fun loc & iloc in Pandas df"
   ]
  },
  {
   "cell_type": "code",
   "execution_count": 1,
   "id": "9a7e4a70-d811-42b9-8486-bb7f80d65823",
   "metadata": {},
   "outputs": [],
   "source": [
    "#loc and iloc are two function in pandas that are used to slice a data set in a Pandas DataFrame\n",
    "#loc is typically used for label indexing and can acess multiple column, \n",
    "#"
   ]
  },
  {
   "cell_type": "code",
   "execution_count": 28,
   "id": "3ea249b9-0912-4e7e-a01a-be9301ab82f2",
   "metadata": {},
   "outputs": [],
   "source": [
    "#Q3- find out new_df.loc[2] & new_iloc[2]\n",
    "\n",
    "\n",
    "reindex=[3,0,1,2]"
   ]
  },
  {
   "cell_type": "code",
   "execution_count": 5,
   "id": "7813e6f4-4698-481a-b253-284763ef8173",
   "metadata": {},
   "outputs": [
    {
     "data": {
      "text/html": [
       "<div>\n",
       "<style scoped>\n",
       "    .dataframe tbody tr th:only-of-type {\n",
       "        vertical-align: middle;\n",
       "    }\n",
       "\n",
       "    .dataframe tbody tr th {\n",
       "        vertical-align: top;\n",
       "    }\n",
       "\n",
       "    .dataframe thead th {\n",
       "        text-align: right;\n",
       "    }\n",
       "</style>\n",
       "<table border=\"1\" class=\"dataframe\">\n",
       "  <thead>\n",
       "    <tr style=\"text-align: right;\">\n",
       "      <th></th>\n",
       "      <th>0</th>\n",
       "    </tr>\n",
       "  </thead>\n",
       "  <tbody>\n",
       "    <tr>\n",
       "      <th>0</th>\n",
       "      <td>3</td>\n",
       "    </tr>\n",
       "    <tr>\n",
       "      <th>1</th>\n",
       "      <td>0</td>\n",
       "    </tr>\n",
       "    <tr>\n",
       "      <th>2</th>\n",
       "      <td>1</td>\n",
       "    </tr>\n",
       "    <tr>\n",
       "      <th>3</th>\n",
       "      <td>2</td>\n",
       "    </tr>\n",
       "  </tbody>\n",
       "</table>\n",
       "</div>"
      ],
      "text/plain": [
       "   0\n",
       "0  3\n",
       "1  0\n",
       "2  1\n",
       "3  2"
      ]
     },
     "execution_count": 5,
     "metadata": {},
     "output_type": "execute_result"
    }
   ],
   "source": [
    "pd.DataFrame(reindex)"
   ]
  },
  {
   "cell_type": "code",
   "execution_count": 18,
   "id": "83d77fe8-2440-4c1e-b25e-a3ea50482c48",
   "metadata": {},
   "outputs": [],
   "source": [
    "new_df=pd.DataFrame(reindex)"
   ]
  },
  {
   "cell_type": "code",
   "execution_count": 19,
   "id": "95ae2fb9-062b-4fd5-bff3-afcca1c68b93",
   "metadata": {},
   "outputs": [
    {
     "data": {
      "text/html": [
       "<div>\n",
       "<style scoped>\n",
       "    .dataframe tbody tr th:only-of-type {\n",
       "        vertical-align: middle;\n",
       "    }\n",
       "\n",
       "    .dataframe tbody tr th {\n",
       "        vertical-align: top;\n",
       "    }\n",
       "\n",
       "    .dataframe thead th {\n",
       "        text-align: right;\n",
       "    }\n",
       "</style>\n",
       "<table border=\"1\" class=\"dataframe\">\n",
       "  <thead>\n",
       "    <tr style=\"text-align: right;\">\n",
       "      <th></th>\n",
       "      <th>0</th>\n",
       "    </tr>\n",
       "  </thead>\n",
       "  <tbody>\n",
       "    <tr>\n",
       "      <th>0</th>\n",
       "      <td>3</td>\n",
       "    </tr>\n",
       "    <tr>\n",
       "      <th>1</th>\n",
       "      <td>0</td>\n",
       "    </tr>\n",
       "    <tr>\n",
       "      <th>2</th>\n",
       "      <td>1</td>\n",
       "    </tr>\n",
       "    <tr>\n",
       "      <th>3</th>\n",
       "      <td>2</td>\n",
       "    </tr>\n",
       "  </tbody>\n",
       "</table>\n",
       "</div>"
      ],
      "text/plain": [
       "   0\n",
       "0  3\n",
       "1  0\n",
       "2  1\n",
       "3  2"
      ]
     },
     "execution_count": 19,
     "metadata": {},
     "output_type": "execute_result"
    }
   ],
   "source": [
    "new_df"
   ]
  },
  {
   "cell_type": "code",
   "execution_count": 20,
   "id": "542e2e4f-c1e8-45cd-90c1-1a8c0e796a74",
   "metadata": {},
   "outputs": [
    {
     "data": {
      "text/plain": [
       "0    1\n",
       "Name: 2, dtype: int64"
      ]
     },
     "execution_count": 20,
     "metadata": {},
     "output_type": "execute_result"
    }
   ],
   "source": [
    "new_df.loc[2]"
   ]
  },
  {
   "cell_type": "code",
   "execution_count": 21,
   "id": "dd0ca3a7-898d-4761-b0e0-7e258e132d68",
   "metadata": {},
   "outputs": [],
   "source": [
    "df1=new_df.loc[2]"
   ]
  },
  {
   "cell_type": "code",
   "execution_count": 22,
   "id": "d2f756a0-3c55-4e1a-a54f-446d25c341ed",
   "metadata": {},
   "outputs": [
    {
     "data": {
      "text/plain": [
       "0    1\n",
       "Name: 2, dtype: int64"
      ]
     },
     "execution_count": 22,
     "metadata": {},
     "output_type": "execute_result"
    }
   ],
   "source": [
    "df1"
   ]
  },
  {
   "cell_type": "code",
   "execution_count": 26,
   "id": "a3dce522-ac0a-4ef2-b6d3-3fafb5467ccb",
   "metadata": {},
   "outputs": [
    {
     "data": {
      "text/plain": [
       "pandas.core.series.Series"
      ]
     },
     "execution_count": 26,
     "metadata": {},
     "output_type": "execute_result"
    }
   ],
   "source": [
    "type(df1)"
   ]
  },
  {
   "cell_type": "code",
   "execution_count": 23,
   "id": "815290d3-4b4a-47d4-8d4f-826e54daf5e0",
   "metadata": {},
   "outputs": [
    {
     "data": {
      "text/plain": [
       "0    1\n",
       "Name: 2, dtype: int64"
      ]
     },
     "execution_count": 23,
     "metadata": {},
     "output_type": "execute_result"
    }
   ],
   "source": [
    "new_df.iloc[2]"
   ]
  },
  {
   "cell_type": "code",
   "execution_count": 24,
   "id": "d93d7c41-9fcc-4f2a-b5b5-14e5f7e9b636",
   "metadata": {},
   "outputs": [],
   "source": [
    "df2=new_df.iloc[2]"
   ]
  },
  {
   "cell_type": "code",
   "execution_count": 25,
   "id": "fd568223-84b9-4dc4-bfba-32c32c23b2e3",
   "metadata": {},
   "outputs": [
    {
     "data": {
      "text/plain": [
       "pandas.core.series.Series"
      ]
     },
     "execution_count": 25,
     "metadata": {},
     "output_type": "execute_result"
    }
   ],
   "source": [
    "type(df2)"
   ]
  },
  {
   "cell_type": "code",
   "execution_count": 27,
   "id": "f16ec6a4-2117-4758-802c-33819201f3d7",
   "metadata": {},
   "outputs": [],
   "source": [
    "#iloc  use for intindexing while loc use for level indexing"
   ]
  },
  {
   "cell_type": "code",
   "execution_count": 1,
   "id": "88af7cb0-182d-47c6-be9e-f21a298bf110",
   "metadata": {},
   "outputs": [],
   "source": [
    "#Q4.\n",
    "\n",
    "import pandas as pd \n",
    "import numpy as np"
   ]
  },
  {
   "cell_type": "code",
   "execution_count": 121,
   "id": "0361bd51-3124-4a0c-b027-ae2b6ffa91cd",
   "metadata": {},
   "outputs": [],
   "source": [
    "columns=['column_1','column_2','column_3','column_4','column_5','column_6']\n",
    "indices=[1,2,3,4,5,6]"
   ]
  },
  {
   "cell_type": "code",
   "execution_count": 122,
   "id": "122aa650-1d37-4ef3-95a2-cbdab1a53b19",
   "metadata": {},
   "outputs": [],
   "source": [
    "df1=pd.DataFrame(np.random.rand(6,6)  ,[1,2,3,4,5,6] ,['column_1','column_2','column_3','column_4','column_5','column_6'])"
   ]
  },
  {
   "cell_type": "code",
   "execution_count": 123,
   "id": "fc050b1f-3184-4b06-a6d9-f0994d991222",
   "metadata": {},
   "outputs": [
    {
     "data": {
      "text/html": [
       "<div>\n",
       "<style scoped>\n",
       "    .dataframe tbody tr th:only-of-type {\n",
       "        vertical-align: middle;\n",
       "    }\n",
       "\n",
       "    .dataframe tbody tr th {\n",
       "        vertical-align: top;\n",
       "    }\n",
       "\n",
       "    .dataframe thead th {\n",
       "        text-align: right;\n",
       "    }\n",
       "</style>\n",
       "<table border=\"1\" class=\"dataframe\">\n",
       "  <thead>\n",
       "    <tr style=\"text-align: right;\">\n",
       "      <th></th>\n",
       "      <th>column_1</th>\n",
       "      <th>column_2</th>\n",
       "      <th>column_3</th>\n",
       "      <th>column_4</th>\n",
       "      <th>column_5</th>\n",
       "      <th>column_6</th>\n",
       "    </tr>\n",
       "  </thead>\n",
       "  <tbody>\n",
       "    <tr>\n",
       "      <th>1</th>\n",
       "      <td>0.423298</td>\n",
       "      <td>0.743245</td>\n",
       "      <td>0.869668</td>\n",
       "      <td>0.643937</td>\n",
       "      <td>0.334270</td>\n",
       "      <td>0.808662</td>\n",
       "    </tr>\n",
       "    <tr>\n",
       "      <th>2</th>\n",
       "      <td>0.187367</td>\n",
       "      <td>0.183098</td>\n",
       "      <td>0.488808</td>\n",
       "      <td>0.195613</td>\n",
       "      <td>0.657102</td>\n",
       "      <td>0.316119</td>\n",
       "    </tr>\n",
       "    <tr>\n",
       "      <th>3</th>\n",
       "      <td>0.516371</td>\n",
       "      <td>0.116148</td>\n",
       "      <td>0.442319</td>\n",
       "      <td>0.993809</td>\n",
       "      <td>0.762501</td>\n",
       "      <td>0.404108</td>\n",
       "    </tr>\n",
       "    <tr>\n",
       "      <th>4</th>\n",
       "      <td>0.535852</td>\n",
       "      <td>0.811365</td>\n",
       "      <td>0.344365</td>\n",
       "      <td>0.793347</td>\n",
       "      <td>0.533619</td>\n",
       "      <td>0.072593</td>\n",
       "    </tr>\n",
       "    <tr>\n",
       "      <th>5</th>\n",
       "      <td>0.237106</td>\n",
       "      <td>0.113368</td>\n",
       "      <td>0.335977</td>\n",
       "      <td>0.671142</td>\n",
       "      <td>0.143047</td>\n",
       "      <td>0.617440</td>\n",
       "    </tr>\n",
       "    <tr>\n",
       "      <th>6</th>\n",
       "      <td>0.101622</td>\n",
       "      <td>0.826736</td>\n",
       "      <td>0.000660</td>\n",
       "      <td>0.592220</td>\n",
       "      <td>0.485299</td>\n",
       "      <td>0.949959</td>\n",
       "    </tr>\n",
       "  </tbody>\n",
       "</table>\n",
       "</div>"
      ],
      "text/plain": [
       "   column_1  column_2  column_3  column_4  column_5  column_6\n",
       "1  0.423298  0.743245  0.869668  0.643937  0.334270  0.808662\n",
       "2  0.187367  0.183098  0.488808  0.195613  0.657102  0.316119\n",
       "3  0.516371  0.116148  0.442319  0.993809  0.762501  0.404108\n",
       "4  0.535852  0.811365  0.344365  0.793347  0.533619  0.072593\n",
       "5  0.237106  0.113368  0.335977  0.671142  0.143047  0.617440\n",
       "6  0.101622  0.826736  0.000660  0.592220  0.485299  0.949959"
      ]
     },
     "execution_count": 123,
     "metadata": {},
     "output_type": "execute_result"
    }
   ],
   "source": [
    "df1"
   ]
  },
  {
   "cell_type": "code",
   "execution_count": 37,
   "id": "0571ac57-4fe6-456e-a0e1-d2362eb0f400",
   "metadata": {},
   "outputs": [],
   "source": [
    "#mean of each and avery column"
   ]
  },
  {
   "cell_type": "code",
   "execution_count": 108,
   "id": "f7d7d2b6-a319-4ead-804b-8f8c9b51940c",
   "metadata": {},
   "outputs": [
    {
     "data": {
      "text/plain": [
       "column_1    0.609114\n",
       "column_2    0.356613\n",
       "column_3    0.549240\n",
       "column_4    0.601368\n",
       "column_5    0.425303\n",
       "column_6    0.526708\n",
       "dtype: float64"
      ]
     },
     "execution_count": 108,
     "metadata": {},
     "output_type": "execute_result"
    }
   ],
   "source": [
    "df1[['column_1','column_2','column_3','column_4','column_5','column_6']].mean()"
   ]
  },
  {
   "cell_type": "code",
   "execution_count": 71,
   "id": "491e91e9-ab68-4fb9-9086-6f43ec81e5ad",
   "metadata": {},
   "outputs": [],
   "source": [
    "#std deviation of column_2"
   ]
  },
  {
   "cell_type": "code",
   "execution_count": 109,
   "id": "cb4a0536-a0a0-4c83-8029-ada422d4e85d",
   "metadata": {},
   "outputs": [
    {
     "data": {
      "text/plain": [
       "0.2468087860888012"
      ]
     },
     "execution_count": 109,
     "metadata": {},
     "output_type": "execute_result"
    }
   ],
   "source": [
    "df1['column_2'].std()"
   ]
  },
  {
   "cell_type": "code",
   "execution_count": 46,
   "id": "b848453d-9e5e-4f36-afe6-b2ac286ea42c",
   "metadata": {},
   "outputs": [],
   "source": [
    "#Q5.- Replace the data present in the second row of column 'column_2' by a str variable and find mean of column_2"
   ]
  },
  {
   "cell_type": "code",
   "execution_count": 110,
   "id": "1d0f6635-be69-45d0-b3a8-bc95436b499f",
   "metadata": {},
   "outputs": [
    {
     "data": {
      "text/html": [
       "<div>\n",
       "<style scoped>\n",
       "    .dataframe tbody tr th:only-of-type {\n",
       "        vertical-align: middle;\n",
       "    }\n",
       "\n",
       "    .dataframe tbody tr th {\n",
       "        vertical-align: top;\n",
       "    }\n",
       "\n",
       "    .dataframe thead th {\n",
       "        text-align: right;\n",
       "    }\n",
       "</style>\n",
       "<table border=\"1\" class=\"dataframe\">\n",
       "  <thead>\n",
       "    <tr style=\"text-align: right;\">\n",
       "      <th></th>\n",
       "      <th>column_1</th>\n",
       "      <th>column_2</th>\n",
       "      <th>column_3</th>\n",
       "      <th>column_4</th>\n",
       "      <th>column_5</th>\n",
       "      <th>column_6</th>\n",
       "    </tr>\n",
       "  </thead>\n",
       "  <tbody>\n",
       "    <tr>\n",
       "      <th>1</th>\n",
       "      <td>0.884482</td>\n",
       "      <td>0.432468</td>\n",
       "      <td>0.730895</td>\n",
       "      <td>0.766602</td>\n",
       "      <td>0.361764</td>\n",
       "      <td>0.212062</td>\n",
       "    </tr>\n",
       "    <tr>\n",
       "      <th>2</th>\n",
       "      <td>0.264756</td>\n",
       "      <td>0.211955</td>\n",
       "      <td>0.755939</td>\n",
       "      <td>0.334325</td>\n",
       "      <td>0.164551</td>\n",
       "      <td>0.140599</td>\n",
       "    </tr>\n",
       "    <tr>\n",
       "      <th>3</th>\n",
       "      <td>0.997454</td>\n",
       "      <td>0.760963</td>\n",
       "      <td>0.563129</td>\n",
       "      <td>0.744377</td>\n",
       "      <td>0.106546</td>\n",
       "      <td>0.337073</td>\n",
       "    </tr>\n",
       "    <tr>\n",
       "      <th>4</th>\n",
       "      <td>0.460881</td>\n",
       "      <td>0.459990</td>\n",
       "      <td>0.388961</td>\n",
       "      <td>0.474260</td>\n",
       "      <td>0.226152</td>\n",
       "      <td>0.856854</td>\n",
       "    </tr>\n",
       "    <tr>\n",
       "      <th>5</th>\n",
       "      <td>0.478249</td>\n",
       "      <td>0.197904</td>\n",
       "      <td>0.283911</td>\n",
       "      <td>0.353116</td>\n",
       "      <td>0.741545</td>\n",
       "      <td>0.947438</td>\n",
       "    </tr>\n",
       "    <tr>\n",
       "      <th>6</th>\n",
       "      <td>0.568863</td>\n",
       "      <td>0.076401</td>\n",
       "      <td>0.572606</td>\n",
       "      <td>0.935526</td>\n",
       "      <td>0.951260</td>\n",
       "      <td>0.666222</td>\n",
       "    </tr>\n",
       "  </tbody>\n",
       "</table>\n",
       "</div>"
      ],
      "text/plain": [
       "   column_1  column_2  column_3  column_4  column_5  column_6\n",
       "1  0.884482  0.432468  0.730895  0.766602  0.361764  0.212062\n",
       "2  0.264756  0.211955  0.755939  0.334325  0.164551  0.140599\n",
       "3  0.997454  0.760963  0.563129  0.744377  0.106546  0.337073\n",
       "4  0.460881  0.459990  0.388961  0.474260  0.226152  0.856854\n",
       "5  0.478249  0.197904  0.283911  0.353116  0.741545  0.947438\n",
       "6  0.568863  0.076401  0.572606  0.935526  0.951260  0.666222"
      ]
     },
     "execution_count": 110,
     "metadata": {},
     "output_type": "execute_result"
    }
   ],
   "source": [
    "df1"
   ]
  },
  {
   "cell_type": "code",
   "execution_count": 133,
   "id": "f1fbc40c-11c6-4125-9719-540a02e1ddc2",
   "metadata": {},
   "outputs": [
    {
     "data": {
      "text/html": [
       "<div>\n",
       "<style scoped>\n",
       "    .dataframe tbody tr th:only-of-type {\n",
       "        vertical-align: middle;\n",
       "    }\n",
       "\n",
       "    .dataframe tbody tr th {\n",
       "        vertical-align: top;\n",
       "    }\n",
       "\n",
       "    .dataframe thead th {\n",
       "        text-align: right;\n",
       "    }\n",
       "</style>\n",
       "<table border=\"1\" class=\"dataframe\">\n",
       "  <thead>\n",
       "    <tr style=\"text-align: right;\">\n",
       "      <th></th>\n",
       "      <th>column_1</th>\n",
       "      <th>column_2</th>\n",
       "      <th>column_3</th>\n",
       "      <th>column_4</th>\n",
       "      <th>column_5</th>\n",
       "      <th>column_6</th>\n",
       "    </tr>\n",
       "  </thead>\n",
       "  <tbody>\n",
       "    <tr>\n",
       "      <th>1</th>\n",
       "      <td>0.423298</td>\n",
       "      <td>0.743245</td>\n",
       "      <td>0.869668</td>\n",
       "      <td>0.643937</td>\n",
       "      <td>0.334270</td>\n",
       "      <td>0.808662</td>\n",
       "    </tr>\n",
       "    <tr>\n",
       "      <th>2</th>\n",
       "      <td>0.187367</td>\n",
       "      <td>0.183098</td>\n",
       "      <td>0.488808</td>\n",
       "      <td>0.195613</td>\n",
       "      <td>0.657102</td>\n",
       "      <td>0.316119</td>\n",
       "    </tr>\n",
       "    <tr>\n",
       "      <th>3</th>\n",
       "      <td>0.516371</td>\n",
       "      <td>0.116148</td>\n",
       "      <td>0.442319</td>\n",
       "      <td>0.993809</td>\n",
       "      <td>0.762501</td>\n",
       "      <td>0.404108</td>\n",
       "    </tr>\n",
       "    <tr>\n",
       "      <th>4</th>\n",
       "      <td>0.535852</td>\n",
       "      <td>0.811365</td>\n",
       "      <td>0.344365</td>\n",
       "      <td>0.793347</td>\n",
       "      <td>0.533619</td>\n",
       "      <td>0.072593</td>\n",
       "    </tr>\n",
       "    <tr>\n",
       "      <th>5</th>\n",
       "      <td>0.237106</td>\n",
       "      <td>0.113368</td>\n",
       "      <td>0.335977</td>\n",
       "      <td>0.671142</td>\n",
       "      <td>0.143047</td>\n",
       "      <td>0.617440</td>\n",
       "    </tr>\n",
       "    <tr>\n",
       "      <th>6</th>\n",
       "      <td>0.101622</td>\n",
       "      <td>0.826736</td>\n",
       "      <td>0.000660</td>\n",
       "      <td>0.592220</td>\n",
       "      <td>0.485299</td>\n",
       "      <td>0.949959</td>\n",
       "    </tr>\n",
       "  </tbody>\n",
       "</table>\n",
       "</div>"
      ],
      "text/plain": [
       "   column_1  column_2  column_3  column_4  column_5  column_6\n",
       "1  0.423298  0.743245  0.869668  0.643937  0.334270  0.808662\n",
       "2  0.187367  0.183098  0.488808  0.195613  0.657102  0.316119\n",
       "3  0.516371  0.116148  0.442319  0.993809  0.762501  0.404108\n",
       "4  0.535852  0.811365  0.344365  0.793347  0.533619  0.072593\n",
       "5  0.237106  0.113368  0.335977  0.671142  0.143047  0.617440\n",
       "6  0.101622  0.826736  0.000660  0.592220  0.485299  0.949959"
      ]
     },
     "execution_count": 133,
     "metadata": {},
     "output_type": "execute_result"
    }
   ],
   "source": [
    "df1.replace({'column_2' : ['a','b','c','d','e','f']})"
   ]
  },
  {
   "cell_type": "code",
   "execution_count": 134,
   "id": "c4f2f48a-a2e3-4331-b2d1-5be167cf7934",
   "metadata": {},
   "outputs": [],
   "source": [
    "#Q6. what is windows function and list the the type of windows function"
   ]
  },
  {
   "cell_type": "code",
   "execution_count": 135,
   "id": "c1ba3b48-8f7f-418c-942a-3c11d87947ff",
   "metadata": {},
   "outputs": [],
   "source": [
    "#the window  fun in used to perform some sort of calculations across a set of rows thet are interrelated with the current \n",
    "# row\n",
    "#with the windows fun we can find out easly mean , sum ,max etc"
   ]
  },
  {
   "cell_type": "code",
   "execution_count": 136,
   "id": "b17976a1-89cc-40bc-8c17-e893b1385588",
   "metadata": {},
   "outputs": [],
   "source": [
    "#Q7 current month and year at the time"
   ]
  },
  {
   "cell_type": "code",
   "execution_count": 137,
   "id": "2bb5f307-003f-4e92-8d3e-ceca5178fa51",
   "metadata": {},
   "outputs": [],
   "source": [
    "date=pd.date_range(start='2023-04-01' , end = '2023-04-08')"
   ]
  },
  {
   "cell_type": "code",
   "execution_count": 138,
   "id": "07fc36e2-e614-46a4-bb0f-c088db8d331f",
   "metadata": {},
   "outputs": [
    {
     "data": {
      "text/plain": [
       "DatetimeIndex(['2023-04-01', '2023-04-02', '2023-04-03', '2023-04-04',\n",
       "               '2023-04-05', '2023-04-06', '2023-04-07', '2023-04-08'],\n",
       "              dtype='datetime64[ns]', freq='D')"
      ]
     },
     "execution_count": 138,
     "metadata": {},
     "output_type": "execute_result"
    }
   ],
   "source": [
    "date"
   ]
  },
  {
   "cell_type": "code",
   "execution_count": 139,
   "id": "8015b28a-04d2-4719-bde2-30c3ecc8967c",
   "metadata": {},
   "outputs": [
    {
     "data": {
      "text/html": [
       "<div>\n",
       "<style scoped>\n",
       "    .dataframe tbody tr th:only-of-type {\n",
       "        vertical-align: middle;\n",
       "    }\n",
       "\n",
       "    .dataframe tbody tr th {\n",
       "        vertical-align: top;\n",
       "    }\n",
       "\n",
       "    .dataframe thead th {\n",
       "        text-align: right;\n",
       "    }\n",
       "</style>\n",
       "<table border=\"1\" class=\"dataframe\">\n",
       "  <thead>\n",
       "    <tr style=\"text-align: right;\">\n",
       "      <th></th>\n",
       "      <th>0</th>\n",
       "    </tr>\n",
       "  </thead>\n",
       "  <tbody>\n",
       "    <tr>\n",
       "      <th>0</th>\n",
       "      <td>2023-04-01</td>\n",
       "    </tr>\n",
       "    <tr>\n",
       "      <th>1</th>\n",
       "      <td>2023-04-02</td>\n",
       "    </tr>\n",
       "    <tr>\n",
       "      <th>2</th>\n",
       "      <td>2023-04-03</td>\n",
       "    </tr>\n",
       "    <tr>\n",
       "      <th>3</th>\n",
       "      <td>2023-04-04</td>\n",
       "    </tr>\n",
       "    <tr>\n",
       "      <th>4</th>\n",
       "      <td>2023-04-05</td>\n",
       "    </tr>\n",
       "    <tr>\n",
       "      <th>5</th>\n",
       "      <td>2023-04-06</td>\n",
       "    </tr>\n",
       "    <tr>\n",
       "      <th>6</th>\n",
       "      <td>2023-04-07</td>\n",
       "    </tr>\n",
       "    <tr>\n",
       "      <th>7</th>\n",
       "      <td>2023-04-08</td>\n",
       "    </tr>\n",
       "  </tbody>\n",
       "</table>\n",
       "</div>"
      ],
      "text/plain": [
       "           0\n",
       "0 2023-04-01\n",
       "1 2023-04-02\n",
       "2 2023-04-03\n",
       "3 2023-04-04\n",
       "4 2023-04-05\n",
       "5 2023-04-06\n",
       "6 2023-04-07\n",
       "7 2023-04-08"
      ]
     },
     "execution_count": 139,
     "metadata": {},
     "output_type": "execute_result"
    }
   ],
   "source": [
    "pd.DataFrame(date)"
   ]
  },
  {
   "cell_type": "code",
   "execution_count": 140,
   "id": "9560d201-5078-4d85-8c0d-3e2cbb0590f2",
   "metadata": {},
   "outputs": [],
   "source": [
    "#Q8.- take two date and calculate diff b/w themm in days ,hours ,and minuts using Pandas time delta"
   ]
  },
  {
   "cell_type": "code",
   "execution_count": 18,
   "id": "895d207b-7c65-4ef6-9eac-99108a7e09cb",
   "metadata": {},
   "outputs": [],
   "source": [
    "date2=pd.date_range(start='2023-04-01' , end ='2023-04-02')"
   ]
  },
  {
   "cell_type": "code",
   "execution_count": 3,
   "id": "20d8bddf-4c5d-49c9-af69-fe37f02ef37b",
   "metadata": {},
   "outputs": [
    {
     "data": {
      "text/plain": [
       "DatetimeIndex(['2023-04-01', '2023-04-02'], dtype='datetime64[ns]', freq='D')"
      ]
     },
     "execution_count": 3,
     "metadata": {},
     "output_type": "execute_result"
    }
   ],
   "source": [
    "date2"
   ]
  },
  {
   "cell_type": "code",
   "execution_count": 24,
   "id": "9e25b701-fb1d-4b2c-87fd-0f8cd6fcf5f4",
   "metadata": {},
   "outputs": [
    {
     "data": {
      "text/plain": [
       "Timedelta('2 days 00:00:00')"
      ]
     },
     "execution_count": 24,
     "metadata": {},
     "output_type": "execute_result"
    }
   ],
   "source": [
    "pd.Timedelta(days=0 , hours=24 , minutes=1440)"
   ]
  },
  {
   "cell_type": "code",
   "execution_count": 32,
   "id": "6a4dfe42-7315-4280-bb11-3847d2e482bc",
   "metadata": {},
   "outputs": [],
   "source": [
    "#Q9.-Write a paython program that read a CSV file containing categorical data and convert aa specified column to cat \n",
    "#data type"
   ]
  },
  {
   "cell_type": "code",
   "execution_count": 35,
   "id": "00a30a33-269b-4c56-af42-57c71ee8f00d",
   "metadata": {},
   "outputs": [],
   "source": [
    " # df=pd.read_csv('file.csv' ,dtype={'Col' : 'category'})\n",
    "    # df['Col']"
   ]
  },
  {
   "cell_type": "code",
   "execution_count": 36,
   "id": "160e79af-0d42-4929-8970-17d8424d7123",
   "metadata": {},
   "outputs": [],
   "source": [
    "#Q10. Write a python program that read a csv file containing sales data for diff products and visulization the data using \n",
    "#a stock bar cahrt show sales of each product and display the bar chart.\n"
   ]
  },
  {
   "cell_type": "code",
   "execution_count": 54,
   "id": "2b88c853-d0bc-41af-9207-8e8c9a11dc31",
   "metadata": {},
   "outputs": [
    {
     "data": {
      "text/html": [
       "<div>\n",
       "<style scoped>\n",
       "    .dataframe tbody tr th:only-of-type {\n",
       "        vertical-align: middle;\n",
       "    }\n",
       "\n",
       "    .dataframe tbody tr th {\n",
       "        vertical-align: top;\n",
       "    }\n",
       "\n",
       "    .dataframe thead th {\n",
       "        text-align: right;\n",
       "    }\n",
       "</style>\n",
       "<table border=\"1\" class=\"dataframe\">\n",
       "  <thead>\n",
       "    <tr style=\"text-align: right;\">\n",
       "      <th></th>\n",
       "      <th>student cloths</th>\n",
       "      <th>Salse QTY</th>\n",
       "    </tr>\n",
       "  </thead>\n",
       "  <tbody>\n",
       "    <tr>\n",
       "      <th>0</th>\n",
       "      <td>shirt</td>\n",
       "      <td>2</td>\n",
       "    </tr>\n",
       "    <tr>\n",
       "      <th>1</th>\n",
       "      <td>paints</td>\n",
       "      <td>10</td>\n",
       "    </tr>\n",
       "    <tr>\n",
       "      <th>2</th>\n",
       "      <td>belts</td>\n",
       "      <td>20</td>\n",
       "    </tr>\n",
       "    <tr>\n",
       "      <th>3</th>\n",
       "      <td>tie</td>\n",
       "      <td>50</td>\n",
       "    </tr>\n",
       "    <tr>\n",
       "      <th>4</th>\n",
       "      <td>launch box</td>\n",
       "      <td>60</td>\n",
       "    </tr>\n",
       "  </tbody>\n",
       "</table>\n",
       "</div>"
      ],
      "text/plain": [
       "  student cloths   Salse QTY\n",
       "0           shirt          2\n",
       "1          paints         10\n",
       "2           belts         20\n",
       "3             tie         50\n",
       "4      launch box         60"
      ]
     },
     "execution_count": 54,
     "metadata": {},
     "output_type": "execute_result"
    }
   ],
   "source": [
    "pd.read_excel(\"Sale_product.xlsx\")"
   ]
  },
  {
   "cell_type": "code",
   "execution_count": 55,
   "id": "778f9bd7-91df-4792-b823-347678d7bf3c",
   "metadata": {},
   "outputs": [],
   "source": [
    "df2=pd.read_excel(\"Sale_product.xlsx\")"
   ]
  },
  {
   "cell_type": "code",
   "execution_count": 56,
   "id": "5138ee4e-110e-4ae7-aeeb-155abf190b07",
   "metadata": {},
   "outputs": [
    {
     "data": {
      "text/html": [
       "<div>\n",
       "<style scoped>\n",
       "    .dataframe tbody tr th:only-of-type {\n",
       "        vertical-align: middle;\n",
       "    }\n",
       "\n",
       "    .dataframe tbody tr th {\n",
       "        vertical-align: top;\n",
       "    }\n",
       "\n",
       "    .dataframe thead th {\n",
       "        text-align: right;\n",
       "    }\n",
       "</style>\n",
       "<table border=\"1\" class=\"dataframe\">\n",
       "  <thead>\n",
       "    <tr style=\"text-align: right;\">\n",
       "      <th></th>\n",
       "      <th>student cloths</th>\n",
       "      <th>Salse QTY</th>\n",
       "    </tr>\n",
       "  </thead>\n",
       "  <tbody>\n",
       "    <tr>\n",
       "      <th>0</th>\n",
       "      <td>shirt</td>\n",
       "      <td>2</td>\n",
       "    </tr>\n",
       "    <tr>\n",
       "      <th>1</th>\n",
       "      <td>paints</td>\n",
       "      <td>10</td>\n",
       "    </tr>\n",
       "    <tr>\n",
       "      <th>2</th>\n",
       "      <td>belts</td>\n",
       "      <td>20</td>\n",
       "    </tr>\n",
       "    <tr>\n",
       "      <th>3</th>\n",
       "      <td>tie</td>\n",
       "      <td>50</td>\n",
       "    </tr>\n",
       "    <tr>\n",
       "      <th>4</th>\n",
       "      <td>launch box</td>\n",
       "      <td>60</td>\n",
       "    </tr>\n",
       "  </tbody>\n",
       "</table>\n",
       "</div>"
      ],
      "text/plain": [
       "  student cloths   Salse QTY\n",
       "0           shirt          2\n",
       "1          paints         10\n",
       "2           belts         20\n",
       "3             tie         50\n",
       "4      launch box         60"
      ]
     },
     "execution_count": 56,
     "metadata": {},
     "output_type": "execute_result"
    }
   ],
   "source": [
    "df2"
   ]
  },
  {
   "cell_type": "code",
   "execution_count": 57,
   "id": "a3a96384-1cc7-478b-b14d-874d46259d49",
   "metadata": {},
   "outputs": [
    {
     "data": {
      "text/plain": [
       "<AxesSubplot: >"
      ]
     },
     "execution_count": 57,
     "metadata": {},
     "output_type": "execute_result"
    },
    {
     "data": {
      "image/png": "[encoded data removed]",
      "text/plain": [
       "<Figure size 640x480 with 1 Axes>"
      ]
     },
     "metadata": {},
     "output_type": "display_data"
    }
   ],
   "source": [
    "df2.plot()"
   ]
  },
  {
   "cell_type": "code",
   "execution_count": 58,
   "id": "cead2b19-1de2-4877-8e7c-1ab36fd40de6",
   "metadata": {},
   "outputs": [],
   "source": [
    "#Q11. as per csv file , read csv file in to pandas Data Frame\n",
    "#Calculate Mean Median mode of test score\n",
    "#display mean median mode in table"
   ]
  },
  {
   "cell_type": "code",
   "execution_count": 68,
   "id": "9486deba-b430-4b3e-a4ff-3f2cf0604efa",
   "metadata": {},
   "outputs": [
    {
     "data": {
      "text/html": [
       "<div>\n",
       "<style scoped>\n",
       "    .dataframe tbody tr th:only-of-type {\n",
       "        vertical-align: middle;\n",
       "    }\n",
       "\n",
       "    .dataframe tbody tr th {\n",
       "        vertical-align: top;\n",
       "    }\n",
       "\n",
       "    .dataframe thead th {\n",
       "        text-align: right;\n",
       "    }\n",
       "</style>\n",
       "<table border=\"1\" class=\"dataframe\">\n",
       "  <thead>\n",
       "    <tr style=\"text-align: right;\">\n",
       "      <th></th>\n",
       "      <th>Student_id</th>\n",
       "      <th>Test_Score</th>\n",
       "    </tr>\n",
       "  </thead>\n",
       "  <tbody>\n",
       "    <tr>\n",
       "      <th>0</th>\n",
       "      <td>1</td>\n",
       "      <td>85</td>\n",
       "    </tr>\n",
       "    <tr>\n",
       "      <th>1</th>\n",
       "      <td>2</td>\n",
       "      <td>90</td>\n",
       "    </tr>\n",
       "    <tr>\n",
       "      <th>2</th>\n",
       "      <td>3</td>\n",
       "      <td>80</td>\n",
       "    </tr>\n",
       "    <tr>\n",
       "      <th>3</th>\n",
       "      <td>4</td>\n",
       "      <td>75</td>\n",
       "    </tr>\n",
       "    <tr>\n",
       "      <th>4</th>\n",
       "      <td>5</td>\n",
       "      <td>85</td>\n",
       "    </tr>\n",
       "    <tr>\n",
       "      <th>5</th>\n",
       "      <td>6</td>\n",
       "      <td>82</td>\n",
       "    </tr>\n",
       "    <tr>\n",
       "      <th>6</th>\n",
       "      <td>7</td>\n",
       "      <td>78</td>\n",
       "    </tr>\n",
       "    <tr>\n",
       "      <th>7</th>\n",
       "      <td>8</td>\n",
       "      <td>85</td>\n",
       "    </tr>\n",
       "    <tr>\n",
       "      <th>8</th>\n",
       "      <td>9</td>\n",
       "      <td>90</td>\n",
       "    </tr>\n",
       "    <tr>\n",
       "      <th>9</th>\n",
       "      <td>10</td>\n",
       "      <td>85</td>\n",
       "    </tr>\n",
       "  </tbody>\n",
       "</table>\n",
       "</div>"
      ],
      "text/plain": [
       "   Student_id  Test_Score\n",
       "0           1          85\n",
       "1           2          90\n",
       "2           3          80\n",
       "3           4          75\n",
       "4           5          85\n",
       "5           6          82\n",
       "6           7          78\n",
       "7           8          85\n",
       "8           9          90\n",
       "9          10          85"
      ]
     },
     "execution_count": 68,
     "metadata": {},
     "output_type": "execute_result"
    }
   ],
   "source": [
    "pd.read_excel('Score_data.xlsx')"
   ]
  },
  {
   "cell_type": "code",
   "execution_count": 71,
   "id": "18cb31fa-e9e4-4ab7-9e13-a4005b5d8ea1",
   "metadata": {},
   "outputs": [],
   "source": [
    "df3=pd.read_excel('Score_data.xlsx')"
   ]
  },
  {
   "cell_type": "code",
   "execution_count": 72,
   "id": "50552eab-dd2c-4ed3-9800-2a1e2a4802d1",
   "metadata": {},
   "outputs": [
    {
     "data": {
      "text/html": [
       "<div>\n",
       "<style scoped>\n",
       "    .dataframe tbody tr th:only-of-type {\n",
       "        vertical-align: middle;\n",
       "    }\n",
       "\n",
       "    .dataframe tbody tr th {\n",
       "        vertical-align: top;\n",
       "    }\n",
       "\n",
       "    .dataframe thead th {\n",
       "        text-align: right;\n",
       "    }\n",
       "</style>\n",
       "<table border=\"1\" class=\"dataframe\">\n",
       "  <thead>\n",
       "    <tr style=\"text-align: right;\">\n",
       "      <th></th>\n",
       "      <th>Student_id</th>\n",
       "      <th>Test_Score</th>\n",
       "    </tr>\n",
       "  </thead>\n",
       "  <tbody>\n",
       "    <tr>\n",
       "      <th>0</th>\n",
       "      <td>1</td>\n",
       "      <td>85</td>\n",
       "    </tr>\n",
       "    <tr>\n",
       "      <th>1</th>\n",
       "      <td>2</td>\n",
       "      <td>90</td>\n",
       "    </tr>\n",
       "    <tr>\n",
       "      <th>2</th>\n",
       "      <td>3</td>\n",
       "      <td>80</td>\n",
       "    </tr>\n",
       "    <tr>\n",
       "      <th>3</th>\n",
       "      <td>4</td>\n",
       "      <td>75</td>\n",
       "    </tr>\n",
       "    <tr>\n",
       "      <th>4</th>\n",
       "      <td>5</td>\n",
       "      <td>85</td>\n",
       "    </tr>\n",
       "    <tr>\n",
       "      <th>5</th>\n",
       "      <td>6</td>\n",
       "      <td>82</td>\n",
       "    </tr>\n",
       "    <tr>\n",
       "      <th>6</th>\n",
       "      <td>7</td>\n",
       "      <td>78</td>\n",
       "    </tr>\n",
       "    <tr>\n",
       "      <th>7</th>\n",
       "      <td>8</td>\n",
       "      <td>85</td>\n",
       "    </tr>\n",
       "    <tr>\n",
       "      <th>8</th>\n",
       "      <td>9</td>\n",
       "      <td>90</td>\n",
       "    </tr>\n",
       "    <tr>\n",
       "      <th>9</th>\n",
       "      <td>10</td>\n",
       "      <td>85</td>\n",
       "    </tr>\n",
       "  </tbody>\n",
       "</table>\n",
       "</div>"
      ],
      "text/plain": [
       "   Student_id  Test_Score\n",
       "0           1          85\n",
       "1           2          90\n",
       "2           3          80\n",
       "3           4          75\n",
       "4           5          85\n",
       "5           6          82\n",
       "6           7          78\n",
       "7           8          85\n",
       "8           9          90\n",
       "9          10          85"
      ]
     },
     "execution_count": 72,
     "metadata": {},
     "output_type": "execute_result"
    }
   ],
   "source": [
    "df3"
   ]
  },
  {
   "cell_type": "code",
   "execution_count": 73,
   "id": "e9408fe4-c52b-4890-b6a0-e9258cab0676",
   "metadata": {},
   "outputs": [
    {
     "data": {
      "text/plain": [
       "83.5"
      ]
     },
     "execution_count": 73,
     "metadata": {},
     "output_type": "execute_result"
    }
   ],
   "source": [
    "df3['Test_Score'].mean()"
   ]
  },
  {
   "cell_type": "code",
   "execution_count": 74,
   "id": "36240e4f-7118-4061-8ae5-51911a7d8d1c",
   "metadata": {},
   "outputs": [
    {
     "data": {
      "text/plain": [
       "85.0"
      ]
     },
     "execution_count": 74,
     "metadata": {},
     "output_type": "execute_result"
    }
   ],
   "source": [
    "df3['Test_Score'].median()"
   ]
  },
  {
   "cell_type": "code",
   "execution_count": 75,
   "id": "79cd6782-3cf3-44c7-9d60-0301b1535524",
   "metadata": {},
   "outputs": [
    {
     "data": {
      "text/plain": [
       "0    85\n",
       "Name: Test_Score, dtype: int64"
      ]
     },
     "execution_count": 75,
     "metadata": {},
     "output_type": "execute_result"
    }
   ],
   "source": [
    "df3['Test_Score'].mode()"
   ]
  },
  {
   "cell_type": "code",
   "execution_count": 77,
   "id": "746c0d3e-1d91-4ded-b753-f70222dea59f",
   "metadata": {},
   "outputs": [],
   "source": [
    "d={\n",
    "    'mean':83.5,\n",
    "    'meadian':85,\n",
    "    'mode' :85\n",
    "}"
   ]
  },
  {
   "cell_type": "code",
   "execution_count": 85,
   "id": "4ceb6612-7cdc-4496-9067-78030da9476e",
   "metadata": {},
   "outputs": [
    {
     "data": {
      "text/html": [
       "<div>\n",
       "<style scoped>\n",
       "    .dataframe tbody tr th:only-of-type {\n",
       "        vertical-align: middle;\n",
       "    }\n",
       "\n",
       "    .dataframe tbody tr th {\n",
       "        vertical-align: top;\n",
       "    }\n",
       "\n",
       "    .dataframe thead th {\n",
       "        text-align: right;\n",
       "    }\n",
       "</style>\n",
       "<table border=\"1\" class=\"dataframe\">\n",
       "  <thead>\n",
       "    <tr style=\"text-align: right;\">\n",
       "      <th></th>\n",
       "      <th>mean</th>\n",
       "      <th>meadian</th>\n",
       "      <th>mode</th>\n",
       "    </tr>\n",
       "  </thead>\n",
       "  <tbody>\n",
       "    <tr>\n",
       "      <th>0</th>\n",
       "      <td>83.5</td>\n",
       "      <td>85</td>\n",
       "      <td>85</td>\n",
       "    </tr>\n",
       "  </tbody>\n",
       "</table>\n",
       "</div>"
      ],
      "text/plain": [
       "   mean  meadian  mode\n",
       "0  83.5       85    85"
      ]
     },
     "execution_count": 85,
     "metadata": {},
     "output_type": "execute_result"
    }
   ],
   "source": [
    "pd.DataFrame({ 'mean':[83.5],'meadian':[85], 'mode' :[85],})"
   ]
  },
  {
   "cell_type": "code",
   "execution_count": 86,
   "id": "e89ea454-e50d-46f1-bcba-ab7beb28c2b5",
   "metadata": {},
   "outputs": [],
   "source": [
    "df3=pd.DataFrame({ 'mean':[83.5],'meadian':[85], 'mode' :[85],})"
   ]
  },
  {
   "cell_type": "code",
   "execution_count": 87,
   "id": "fd405cd9-d8f1-4b80-b727-d7f143503bf7",
   "metadata": {},
   "outputs": [
    {
     "data": {
      "text/html": [
       "<div>\n",
       "<style scoped>\n",
       "    .dataframe tbody tr th:only-of-type {\n",
       "        vertical-align: middle;\n",
       "    }\n",
       "\n",
       "    .dataframe tbody tr th {\n",
       "        vertical-align: top;\n",
       "    }\n",
       "\n",
       "    .dataframe thead th {\n",
       "        text-align: right;\n",
       "    }\n",
       "</style>\n",
       "<table border=\"1\" class=\"dataframe\">\n",
       "  <thead>\n",
       "    <tr style=\"text-align: right;\">\n",
       "      <th></th>\n",
       "      <th>mean</th>\n",
       "      <th>meadian</th>\n",
       "      <th>mode</th>\n",
       "    </tr>\n",
       "  </thead>\n",
       "  <tbody>\n",
       "    <tr>\n",
       "      <th>0</th>\n",
       "      <td>83.5</td>\n",
       "      <td>85</td>\n",
       "      <td>85</td>\n",
       "    </tr>\n",
       "  </tbody>\n",
       "</table>\n",
       "</div>"
      ],
      "text/plain": [
       "   mean  meadian  mode\n",
       "0  83.5       85    85"
      ]
     },
     "execution_count": 87,
     "metadata": {},
     "output_type": "execute_result"
    }
   ],
   "source": [
    "df3"
   ]
  },
  {
   "cell_type": "code",
   "execution_count": 88,
   "id": "4d9f931f-bbdd-4704-ad8a-852627e9f72f",
   "metadata": {},
   "outputs": [
    {
     "data": {
      "text/plain": [
       "<AxesSubplot: >"
      ]
     },
     "execution_count": 88,
     "metadata": {},
     "output_type": "execute_result"
    },
    {
     "data": {
      "image/png": "[encoded data removed]",
      "text/plain": [
       "<Figure size 640x480 with 1 Axes>"
      ]
     },
     "metadata": {},
     "output_type": "display_data"
    }
   ],
   "source": [
    "df3.plot()"
   ]
  },
  {
   "cell_type": "code",
   "execution_count": null,
   "id": "7044387f-19ee-45e1-9bc6-fb6d85f692a4",
   "metadata": {},
   "outputs": [],
   "source": []
  }
 ],
 "metadata": {
  "kernelspec": {
   "display_name": "Python 3 (ipykernel)",
   "language": "python",
   "name": "python3"
  },
  "language_info": {
   "codemirror_mode": {
    "name": "ipython",
    "version": 3
   },
   "file_extension": ".py",
   "mimetype": "text/x-python",
   "name": "python",
   "nbconvert_exporter": "python",
   "pygments_lexer": "ipython3",
   "version": "3.10.8"
  }
 },
 "nbformat": 4,
 "nbformat_minor": 5
}
